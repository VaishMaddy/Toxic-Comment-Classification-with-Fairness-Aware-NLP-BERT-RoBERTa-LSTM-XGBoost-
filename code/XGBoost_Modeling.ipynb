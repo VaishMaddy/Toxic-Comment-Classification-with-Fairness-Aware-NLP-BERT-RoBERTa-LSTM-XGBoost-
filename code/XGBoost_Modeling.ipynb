{
  "cells": [
    {
      "cell_type": "markdown",
      "source": [
        "# **Jigsaw Toxic Comment Classification**\n",
        "## **XGBoost Modeling and Fairness Evaluation**\n",
        "\n",
        "This notebook builds a baseline tree-based classifier using **XGBoost** and evaluates its performance across both overall and identity subgroup levels. It uses **Word2Vec sentence embeddings** for feature extraction and fairness-aware metrics to assess model bias, following Jigsaw’s official competition methodology.\n"
      ],
      "metadata": {
        "id": "4xB1o_jm0UfA"
      }
    },
    {
      "cell_type": "markdown",
      "source": [
        "### **1. Data Preparation**\n",
        "- Loads and filters the `train.csv` file, removing non-identity ID columns.\n",
        "- Extracts target labels, including toxicity categories:\n",
        "  - `target`, `severe_toxicity`, `obscene`, `threat`, `insult`, `identity_attack`, `sexual_explicit`\n",
        "- Includes identity indicators:\n",
        "  - `male`, `female`, `homosexual_gay_or_lesbian`, `christian`, `jewish`, `muslim`, `black`, `white`, `psychiatric_or_mental_illness`\n",
        "- Handles missing values in text and target columns."
      ],
      "metadata": {
        "id": "bFUnrj4G0jIk"
      }
    },
    {
      "cell_type": "code",
      "execution_count": null,
      "metadata": {
        "colab": {
          "base_uri": "https://localhost:8080/"
        },
        "id": "HCkibvj7EMux",
        "outputId": "82e7bbe3-b793-488b-cc43-3995bec03c63"
      },
      "outputs": [
        {
          "output_type": "stream",
          "name": "stdout",
          "text": [
            "Mounted at /content/drive/\n"
          ]
        }
      ],
      "source": [
        "import pandas as pd\n",
        "import numpy as np\n",
        "import matplotlib.pyplot as plt\n",
        "import gc\n",
        "\n",
        "import os\n",
        "\n",
        "from google.colab import drive\n",
        "drive.mount('/content/drive/')"
      ]
    },
    {
      "cell_type": "code",
      "execution_count": null,
      "metadata": {
        "id": "6NnBMX7WEP-N"
      },
      "outputs": [],
      "source": [
        "data_path = \"/content/drive/My Drive/Jigsaw/\""
      ]
    },
    {
      "cell_type": "code",
      "execution_count": null,
      "metadata": {
        "id": "Gv6u5ZTnERaU"
      },
      "outputs": [],
      "source": [
        "train = pd.read_csv(data_path + \"train.csv\")"
      ]
    },
    {
      "cell_type": "code",
      "execution_count": null,
      "metadata": {
        "id": "NsAAtb46I4Yt"
      },
      "outputs": [],
      "source": [
        "id_cols = [col for col in train.columns if ('id' in col.lower()) & ('identity' not in col.lower())]\n",
        "train = train.drop(columns=id_cols)"
      ]
    },
    {
      "cell_type": "code",
      "execution_count": null,
      "metadata": {
        "colab": {
          "base_uri": "https://localhost:8080/"
        },
        "id": "1umCbe7_EXN9",
        "outputId": "8ca23ef9-5cd4-4b8c-b424-92d888502629"
      },
      "outputs": [
        {
          "output_type": "execute_result",
          "data": {
            "text/plain": [
              "Index(['target', 'comment_text', 'severe_toxicity', 'obscene',\n",
              "       'identity_attack', 'insult', 'threat', 'asian', 'atheist', 'bisexual',\n",
              "       'black', 'buddhist', 'christian', 'female', 'heterosexual', 'hindu',\n",
              "       'homosexual_gay_or_lesbian', 'intellectual_or_learning_disability',\n",
              "       'jewish', 'latino', 'male', 'muslim', 'other_disability',\n",
              "       'other_gender', 'other_race_or_ethnicity', 'other_religion',\n",
              "       'other_sexual_orientation', 'physical_disability',\n",
              "       'psychiatric_or_mental_illness', 'transgender', 'white', 'created_date',\n",
              "       'rating', 'funny', 'wow', 'sad', 'likes', 'disagree', 'sexual_explicit',\n",
              "       'identity_annotator_count', 'toxicity_annotator_count'],\n",
              "      dtype='object')"
            ]
          },
          "metadata": {},
          "execution_count": 5
        }
      ],
      "source": [
        "train.columns"
      ]
    },
    {
      "cell_type": "code",
      "execution_count": null,
      "metadata": {
        "id": "oxt8tR19ItZm"
      },
      "outputs": [],
      "source": [
        "# get those columns as the target Y set:\n",
        "# severe_toxicity\n",
        "# obscene\n",
        "# threat\n",
        "# insult\n",
        "# identity_attack\n",
        "# sexual_explicit\n",
        "\n",
        "target_cols = ['target', 'severe_toxicity', 'obscene', 'threat', 'insult', 'identity_attack', 'sexual_explicit'] \\\n",
        "            + ['male', 'female', 'homosexual_gay_or_lesbian', 'christian', 'jewish', 'muslim', 'black', 'white', 'psychiatric_or_mental_illness']\n",
        "y = train[target_cols]"
      ]
    },
    {
      "cell_type": "code",
      "execution_count": null,
      "metadata": {
        "id": "RdWDMZRSJhG1"
      },
      "outputs": [],
      "source": [
        "X = train['comment_text']"
      ]
    },
    {
      "cell_type": "code",
      "execution_count": null,
      "metadata": {
        "id": "z7q-2kzLK1PV"
      },
      "outputs": [],
      "source": [
        "del train"
      ]
    },
    {
      "cell_type": "code",
      "execution_count": null,
      "metadata": {
        "colab": {
          "base_uri": "https://localhost:8080/"
        },
        "id": "3oEo3s1rK2ss",
        "outputId": "c43f077a-27c1-430a-a5cc-97bbc8479c91"
      },
      "outputs": [
        {
          "output_type": "execute_result",
          "data": {
            "text/plain": [
              "93"
            ]
          },
          "metadata": {},
          "execution_count": 9
        }
      ],
      "source": [
        "gc.collect()"
      ]
    },
    {
      "cell_type": "code",
      "execution_count": null,
      "metadata": {
        "colab": {
          "base_uri": "https://localhost:8080/"
        },
        "id": "VVjZM9MNLVjG",
        "outputId": "7cabfdcd-aa41-4dba-bab6-11111561c0c4"
      },
      "outputs": [
        {
          "output_type": "execute_result",
          "data": {
            "text/plain": [
              "3"
            ]
          },
          "metadata": {},
          "execution_count": 10
        }
      ],
      "source": [
        "X.isnull().sum()"
      ]
    },
    {
      "cell_type": "code",
      "execution_count": null,
      "metadata": {
        "id": "pb-XQQapLYcQ"
      },
      "outputs": [],
      "source": [
        "X = X.fillna('')"
      ]
    },
    {
      "cell_type": "code",
      "execution_count": null,
      "metadata": {
        "colab": {
          "base_uri": "https://localhost:8080/",
          "height": 585
        },
        "id": "QI_2NmQZK6TD",
        "outputId": "7dfded20-9df8-4dca-cb48-4a6098e263d1"
      },
      "outputs": [
        {
          "output_type": "execute_result",
          "data": {
            "text/plain": [
              "target                                 0\n",
              "severe_toxicity                        0\n",
              "obscene                                0\n",
              "threat                                 0\n",
              "insult                                 0\n",
              "identity_attack                        0\n",
              "sexual_explicit                        0\n",
              "male                             1399744\n",
              "female                           1399744\n",
              "homosexual_gay_or_lesbian        1399744\n",
              "christian                        1399744\n",
              "jewish                           1399744\n",
              "muslim                           1399744\n",
              "black                            1399744\n",
              "white                            1399744\n",
              "psychiatric_or_mental_illness    1399744\n",
              "dtype: int64"
            ],
            "text/html": [
              "<div>\n",
              "<style scoped>\n",
              "    .dataframe tbody tr th:only-of-type {\n",
              "        vertical-align: middle;\n",
              "    }\n",
              "\n",
              "    .dataframe tbody tr th {\n",
              "        vertical-align: top;\n",
              "    }\n",
              "\n",
              "    .dataframe thead th {\n",
              "        text-align: right;\n",
              "    }\n",
              "</style>\n",
              "<table border=\"1\" class=\"dataframe\">\n",
              "  <thead>\n",
              "    <tr style=\"text-align: right;\">\n",
              "      <th></th>\n",
              "      <th>0</th>\n",
              "    </tr>\n",
              "  </thead>\n",
              "  <tbody>\n",
              "    <tr>\n",
              "      <th>target</th>\n",
              "      <td>0</td>\n",
              "    </tr>\n",
              "    <tr>\n",
              "      <th>severe_toxicity</th>\n",
              "      <td>0</td>\n",
              "    </tr>\n",
              "    <tr>\n",
              "      <th>obscene</th>\n",
              "      <td>0</td>\n",
              "    </tr>\n",
              "    <tr>\n",
              "      <th>threat</th>\n",
              "      <td>0</td>\n",
              "    </tr>\n",
              "    <tr>\n",
              "      <th>insult</th>\n",
              "      <td>0</td>\n",
              "    </tr>\n",
              "    <tr>\n",
              "      <th>identity_attack</th>\n",
              "      <td>0</td>\n",
              "    </tr>\n",
              "    <tr>\n",
              "      <th>sexual_explicit</th>\n",
              "      <td>0</td>\n",
              "    </tr>\n",
              "    <tr>\n",
              "      <th>male</th>\n",
              "      <td>1399744</td>\n",
              "    </tr>\n",
              "    <tr>\n",
              "      <th>female</th>\n",
              "      <td>1399744</td>\n",
              "    </tr>\n",
              "    <tr>\n",
              "      <th>homosexual_gay_or_lesbian</th>\n",
              "      <td>1399744</td>\n",
              "    </tr>\n",
              "    <tr>\n",
              "      <th>christian</th>\n",
              "      <td>1399744</td>\n",
              "    </tr>\n",
              "    <tr>\n",
              "      <th>jewish</th>\n",
              "      <td>1399744</td>\n",
              "    </tr>\n",
              "    <tr>\n",
              "      <th>muslim</th>\n",
              "      <td>1399744</td>\n",
              "    </tr>\n",
              "    <tr>\n",
              "      <th>black</th>\n",
              "      <td>1399744</td>\n",
              "    </tr>\n",
              "    <tr>\n",
              "      <th>white</th>\n",
              "      <td>1399744</td>\n",
              "    </tr>\n",
              "    <tr>\n",
              "      <th>psychiatric_or_mental_illness</th>\n",
              "      <td>1399744</td>\n",
              "    </tr>\n",
              "  </tbody>\n",
              "</table>\n",
              "</div><br><label><b>dtype:</b> int64</label>"
            ]
          },
          "metadata": {},
          "execution_count": 12
        }
      ],
      "source": [
        "y.isnull().sum()"
      ]
    },
    {
      "cell_type": "markdown",
      "source": [
        "### **2. Word2Vec Embedding Generation**\n",
        "- Trains a Word2Vec model on the preprocessed text.\n",
        "- Computes average sentence vectors for each comment.\n",
        "- Optionally loads pre-computed vectors from disk."
      ],
      "metadata": {
        "id": "Pm-Orcrn0ukB"
      }
    },
    {
      "cell_type": "code",
      "execution_count": null,
      "metadata": {
        "colab": {
          "base_uri": "https://localhost:8080/"
        },
        "id": "vpDmY3LqMuUI",
        "outputId": "54d37d30-ede2-49d5-c467-9f07dce89a05"
      },
      "outputs": [
        {
          "output_type": "stream",
          "name": "stderr",
          "text": [
            "[nltk_data] Downloading package punkt_tab to /root/nltk_data...\n",
            "[nltk_data]   Unzipping tokenizers/punkt_tab.zip.\n"
          ]
        },
        {
          "output_type": "execute_result",
          "data": {
            "text/plain": [
              "True"
            ]
          },
          "metadata": {},
          "execution_count": 13
        }
      ],
      "source": [
        "import nltk\n",
        "nltk.download('punkt_tab')"
      ]
    },
    {
      "cell_type": "code",
      "execution_count": null,
      "metadata": {
        "id": "_vSKLHvAMaRg"
      },
      "outputs": [],
      "source": [
        "from gensim.models import Word2Vec\n",
        "from nltk.tokenize import word_tokenize\n",
        "\n",
        "def get_avg_w2v(sentence, model, vector_size):\n",
        "    words = word_tokenize(sentence)\n",
        "    vectors = [model.wv[word] for word in words if word in model.wv]\n",
        "    return np.mean(vectors, axis=0) if vectors else np.zeros(vector_size)"
      ]
    },
    {
      "cell_type": "code",
      "execution_count": null,
      "metadata": {
        "id": "k95zn4cTZT8o"
      },
      "outputs": [],
      "source": [
        "# Tokenize text\n",
        "# sentences = [word_tokenize(text) for text in X]"
      ]
    },
    {
      "cell_type": "code",
      "execution_count": null,
      "metadata": {
        "id": "31rPYAGqZOJ3"
      },
      "outputs": [],
      "source": [
        "# Train Word2Vec\n",
        "# w2v_model = Word2Vec(sentences, vector_size=300, window=5, min_count=2, workers=4)"
      ]
    },
    {
      "cell_type": "code",
      "execution_count": null,
      "metadata": {
        "id": "iYMv2t5tLSSc"
      },
      "outputs": [],
      "source": [
        "# X = np.array([get_avg_w2v(comment, w2v_model, 300) for comment in X])"
      ]
    },
    {
      "cell_type": "code",
      "execution_count": null,
      "metadata": {
        "id": "3howLXhkuxiG"
      },
      "outputs": [],
      "source": [
        "# X = pd.DataFrame(X)"
      ]
    },
    {
      "cell_type": "code",
      "execution_count": null,
      "metadata": {
        "id": "aP2FMKrCqLhK"
      },
      "outputs": [],
      "source": [
        "data_path = \"/content/drive/My Drive/Jigsaw/\""
      ]
    },
    {
      "cell_type": "code",
      "execution_count": null,
      "metadata": {
        "id": "3mUT5UzrqGi1"
      },
      "outputs": [],
      "source": [
        "# X.to_csv(data_path + 'train_cleaned.csv', index=False)"
      ]
    },
    {
      "cell_type": "code",
      "execution_count": null,
      "metadata": {
        "id": "yxg0OMdAYkTn"
      },
      "outputs": [],
      "source": [
        "X = pd.read_csv(data_path + 'train_cleaned.csv')"
      ]
    },
    {
      "cell_type": "code",
      "execution_count": null,
      "metadata": {
        "id": "qFUNI-J-qORm"
      },
      "outputs": [],
      "source": [
        "X = X.apply(pd.Series)"
      ]
    },
    {
      "cell_type": "code",
      "execution_count": null,
      "metadata": {
        "id": "TTOakaeOxwIf"
      },
      "outputs": [],
      "source": [
        "y['target'] = y['target'] > 0.5"
      ]
    },
    {
      "cell_type": "markdown",
      "source": [
        "### **3. XGBoost Model Training**\n",
        "- **Train-test split**: 80/20\n",
        "- **Feature input**: Sentence-level Word2Vec embeddings  \n",
        "- **Target variable**: Binary toxicity label (`target > 0.5`)\n",
        "\n",
        "**XGBoost Parameters:**\n",
        "- `objective`: `'binary:logistic'`\n",
        "- `eval_metric`: `'auc'`\n",
        "- `eta`: `0.1`\n",
        "- `max_depth`: `6`\n",
        "- `subsample`: `0.8`\n",
        "- `colsample_bytree`: `0.8`\n",
        "- `num_boost_round`: `100`\n",
        "\n",
        "**Performance:**\n",
        "- Achieved an **AUC of approximately 0.85** on the test set, indicating strong baseline separation between toxic and non-toxic comments.\n",
        "\n",
        "**Key Takeaway:**  \n",
        "The model demonstrates strong predictive capability on the binary classification task using dense Word2Vec sentence vectors, even without deep architectures or fine-tuned embeddings. It establishes a solid benchmark for further bias-aware evaluations and multi-label extensions."
      ],
      "metadata": {
        "id": "pXfk6fLD00in"
      }
    },
    {
      "cell_type": "code",
      "execution_count": null,
      "metadata": {
        "id": "y3xklAjEzSjx"
      },
      "outputs": [],
      "source": [
        "from sklearn.model_selection import train_test_split\n",
        "import xgboost as xgb\n",
        "\n",
        "# Split data into training and testing sets\n",
        "X_train, X_test, y_train, y_test = train_test_split(X, y, test_size=0.2, random_state=42)\n",
        "\n",
        "# Convert data to DMatrix format for XGBoost\n",
        "dtrain = xgb.DMatrix(X_train, label=y_train['target'])\n",
        "dtest = xgb.DMatrix(X_test, label=y_test['target'])"
      ]
    },
    {
      "cell_type": "code",
      "execution_count": null,
      "metadata": {
        "id": "IFMto2TZvsRz"
      },
      "outputs": [],
      "source": [
        "# Set XGBoost parameters\n",
        "params = {\n",
        "    'objective': 'binary:logistic',\n",
        "    'eval_metric': 'auc',  # Use AUC as evaluation metric\n",
        "    'eta': 0.1,\n",
        "    'max_depth': 6,\n",
        "    'subsample': 0.8,\n",
        "    'colsample_bytree': 0.8,\n",
        "}\n",
        "\n",
        "# Train the XGBoost model\n",
        "model = xgb.train(params, dtrain, num_boost_round=100)"
      ]
    },
    {
      "cell_type": "code",
      "execution_count": null,
      "metadata": {
        "colab": {
          "base_uri": "https://localhost:8080/"
        },
        "id": "SPMbaDEbVx5g",
        "outputId": "20498733-1f64-41e9-f6ac-61458fb436bf"
      },
      "outputs": [
        {
          "output_type": "stream",
          "name": "stdout",
          "text": [
            "AUC: 0.8491787180748991\n"
          ]
        }
      ],
      "source": [
        "# Make predictions on the test set\n",
        "y_pred = model.predict(dtest)\n",
        "\n",
        "# Evaluate the model (example: using AUC)\n",
        "# You would typically use metrics like AUC, accuracy, precision, recall, F1-score, etc.\n",
        "#  based on the specific requirements of your task\n",
        "\n",
        "from sklearn.metrics import roc_auc_score\n",
        "auc = roc_auc_score(y_test['target'], y_pred)\n",
        "print(f\"AUC: {auc}\")"
      ]
    },
    {
      "cell_type": "markdown",
      "source": [
        "### **4. Bias and Fairness Evaluation**\n",
        "\n",
        "To assess the fairness of the model across identity subgroups, we compute three bias-aware metrics and combine them into a single fairness-adjusted score.\n",
        "\n",
        "#### **Evaluation Metrics**\n",
        "- **Subgroup AUC**: Measures the model’s ability to distinguish toxic vs. non-toxic within each identity group.\n",
        "- **BPSN AUC** (Background Positive, Subgroup Negative): Tests if the model mistakenly classifies non-toxic subgroup comments as toxic.\n",
        "- **BNSP AUC** (Background Negative, Subgroup Positive): Tests if the model fails to classify toxic subgroup comments as toxic.\n",
        "\n",
        "#### **Bias-Aware Final Score**\n",
        "A power mean (with power = -5) aggregates the above metrics across subgroups. This combined bias score is then blended with the overall AUC (weight = 0.25) to compute the final fairness-adjusted performance metric.\n",
        "\n",
        "#### **Bias Metrics Results**\n",
        "While the model performs well overall (AUC ≈ 0.85), it shows **lower fairness scores on subgroup AUC for underrepresented groups** like \"black\" and \"homosexual_gay_or_lesbian\", suggesting that further mitigation (e.g., reweighting or debiasing techniques) may be needed to ensure equitable outcomes.\n"
      ],
      "metadata": {
        "id": "H9-wUq2M09DT"
      }
    },
    {
      "cell_type": "code",
      "execution_count": null,
      "metadata": {
        "id": "kPy8SuVB3f9I"
      },
      "outputs": [],
      "source": [
        "# From baseline kernel\n",
        "\n",
        "def calculate_overall_auc(df, model_name):\n",
        "    true_labels = df[TOXICITY_COLUMN]>0.5\n",
        "    predicted_labels = df[model_name]\n",
        "    return roc_auc_score(true_labels, predicted_labels)\n",
        "\n",
        "def power_mean(series, p):\n",
        "    total = sum(np.power(series, p))\n",
        "    return np.power(total / len(series), 1 / p)\n",
        "\n",
        "def get_final_metric(bias_df, overall_auc, POWER=-5, OVERALL_MODEL_WEIGHT=0.25):\n",
        "    bias_score = np.average([\n",
        "        power_mean(bias_df[SUBGROUP_AUC], POWER),\n",
        "        power_mean(bias_df[BPSN_AUC], POWER),\n",
        "        power_mean(bias_df[BNSP_AUC], POWER)\n",
        "    ])\n",
        "    return (OVERALL_MODEL_WEIGHT * overall_auc) + ((1 - OVERALL_MODEL_WEIGHT) * bias_score)\n",
        "\n",
        "\n",
        "\n",
        "SUBGROUP_AUC = 'subgroup_auc'\n",
        "BPSN_AUC = 'bpsn_auc'  # stands for background positive, subgroup negative\n",
        "BNSP_AUC = 'bnsp_auc'  # stands for background negative, subgroup positive\n",
        "\n",
        "def compute_auc(y_true, y_pred):\n",
        "    try:\n",
        "        return roc_auc_score(y_true, y_pred)\n",
        "    except ValueError:\n",
        "        return np.nan\n",
        "\n",
        "def compute_subgroup_auc(df, subgroup, label, model_name):\n",
        "    subgroup_examples = df[df[subgroup]>0.5]\n",
        "    return compute_auc((subgroup_examples[label]>0.5), subgroup_examples[model_name])\n",
        "\n",
        "def compute_bpsn_auc(df, subgroup, label, model_name):\n",
        "    \"\"\"Computes the AUC of the within-subgroup negative examples and the background positive examples.\"\"\"\n",
        "    subgroup_negative_examples = df[(df[subgroup]>0.5) & (df[label]<=0.5)]\n",
        "    non_subgroup_positive_examples = df[(df[subgroup]<=0.5) & (df[label]>0.5)]\n",
        "    # examples = subgroup_negative_examples.append(non_subgroup_positive_examples)\n",
        "    examples = pd.concat([subgroup_negative_examples, non_subgroup_positive_examples])\n",
        "    return compute_auc(examples[label]>0.5, examples[model_name])\n",
        "\n",
        "def compute_bnsp_auc(df, subgroup, label, model_name):\n",
        "    \"\"\"Computes the AUC of the within-subgroup positive examples and the background negative examples.\"\"\"\n",
        "    subgroup_positive_examples = df[(df[subgroup]>0.5) & (df[label]>0.5)]\n",
        "    non_subgroup_negative_examples = df[(df[subgroup]<=0.5) & (df[label]<=0.5)]\n",
        "    # examples = subgroup_positive_examples.append(non_subgroup_negative_examples)\n",
        "    examples = pd.concat([subgroup_positive_examples, non_subgroup_negative_examples])\n",
        "    return compute_auc(examples[label]>0.5, examples[model_name])\n",
        "\n",
        "def compute_bias_metrics_for_model(dataset,\n",
        "                                   subgroups,\n",
        "                                   model,\n",
        "                                   label_col,\n",
        "                                   include_asegs=False):\n",
        "    \"\"\"Computes per-subgroup metrics for all subgroups and one model.\"\"\"\n",
        "    records = []\n",
        "    for subgroup in subgroups:\n",
        "        record = {\n",
        "            'subgroup': subgroup,\n",
        "            'subgroup_size': len(dataset[dataset[subgroup]>0.5])\n",
        "        }\n",
        "        record[SUBGROUP_AUC] = compute_subgroup_auc(dataset, subgroup, label_col, model)\n",
        "        record[BPSN_AUC] = compute_bpsn_auc(dataset, subgroup, label_col, model)\n",
        "        record[BNSP_AUC] = compute_bnsp_auc(dataset, subgroup, label_col, model)\n",
        "        records.append(record)\n",
        "    return pd.DataFrame(records).sort_values('subgroup_auc', ascending=True)"
      ]
    },
    {
      "cell_type": "code",
      "execution_count": null,
      "metadata": {
        "id": "VEBAVcxO-2Rs"
      },
      "outputs": [],
      "source": [
        "identity_columns = [\n",
        "    'male', 'female', 'homosexual_gay_or_lesbian', 'christian', 'jewish',\n",
        "    'muslim', 'black', 'white', 'psychiatric_or_mental_illness']\n",
        "y_columns=['target']"
      ]
    },
    {
      "cell_type": "code",
      "execution_count": null,
      "metadata": {
        "colab": {
          "base_uri": "https://localhost:8080/"
        },
        "id": "tYZrB4V38erY",
        "outputId": "dec8be37-ccdd-4207-d344-42168072c7ea"
      },
      "outputs": [
        {
          "output_type": "execute_result",
          "data": {
            "text/plain": [
              "0.8080898543096531"
            ]
          },
          "metadata": {},
          "execution_count": 29
        }
      ],
      "source": [
        "MODEL_NAME = 'model1'\n",
        "y_test[MODEL_NAME]=y_pred\n",
        "TOXICITY_COLUMN = 'target'\n",
        "bias_metrics_df = compute_bias_metrics_for_model(y_test, identity_columns, MODEL_NAME, 'target')\n",
        "bias_metrics_df\n",
        "get_final_metric(bias_metrics_df, calculate_overall_auc(y_test, MODEL_NAME))"
      ]
    },
    {
      "cell_type": "code",
      "execution_count": null,
      "metadata": {
        "colab": {
          "base_uri": "https://localhost:8080/",
          "height": 331
        },
        "id": "pKZQaQFE_gwI",
        "outputId": "e83d6cb2-3d74-4ec4-c12d-9d93c3713341"
      },
      "outputs": [
        {
          "output_type": "execute_result",
          "data": {
            "text/plain": [
              "                        subgroup  subgroup_size  subgroup_auc  bpsn_auc  \\\n",
              "6                          black           2729      0.751513  0.717222   \n",
              "2      homosexual_gay_or_lesbian           2104      0.756789  0.843098   \n",
              "7                          white           4661      0.759939  0.637381   \n",
              "5                         muslim           3940      0.772141  0.777581   \n",
              "1                         female          10136      0.802070  0.789344   \n",
              "0                           male           8025      0.809047  0.733787   \n",
              "4                         jewish           1431      0.821264  0.830580   \n",
              "3                      christian           7011      0.841584  0.890722   \n",
              "8  psychiatric_or_mental_illness            861      0.847092  0.804135   \n",
              "\n",
              "   bnsp_auc  \n",
              "6  0.863360  \n",
              "2  0.759485  \n",
              "7  0.910221  \n",
              "5  0.837240  \n",
              "1  0.851708  \n",
              "0  0.892211  \n",
              "4  0.826134  \n",
              "3  0.769287  \n",
              "8  0.873300  "
            ],
            "text/html": [
              "\n",
              "  <div id=\"df-dc9e5c38-71f7-4f5e-8616-5a511700d4ef\" class=\"colab-df-container\">\n",
              "    <div>\n",
              "<style scoped>\n",
              "    .dataframe tbody tr th:only-of-type {\n",
              "        vertical-align: middle;\n",
              "    }\n",
              "\n",
              "    .dataframe tbody tr th {\n",
              "        vertical-align: top;\n",
              "    }\n",
              "\n",
              "    .dataframe thead th {\n",
              "        text-align: right;\n",
              "    }\n",
              "</style>\n",
              "<table border=\"1\" class=\"dataframe\">\n",
              "  <thead>\n",
              "    <tr style=\"text-align: right;\">\n",
              "      <th></th>\n",
              "      <th>subgroup</th>\n",
              "      <th>subgroup_size</th>\n",
              "      <th>subgroup_auc</th>\n",
              "      <th>bpsn_auc</th>\n",
              "      <th>bnsp_auc</th>\n",
              "    </tr>\n",
              "  </thead>\n",
              "  <tbody>\n",
              "    <tr>\n",
              "      <th>6</th>\n",
              "      <td>black</td>\n",
              "      <td>2729</td>\n",
              "      <td>0.751513</td>\n",
              "      <td>0.717222</td>\n",
              "      <td>0.863360</td>\n",
              "    </tr>\n",
              "    <tr>\n",
              "      <th>2</th>\n",
              "      <td>homosexual_gay_or_lesbian</td>\n",
              "      <td>2104</td>\n",
              "      <td>0.756789</td>\n",
              "      <td>0.843098</td>\n",
              "      <td>0.759485</td>\n",
              "    </tr>\n",
              "    <tr>\n",
              "      <th>7</th>\n",
              "      <td>white</td>\n",
              "      <td>4661</td>\n",
              "      <td>0.759939</td>\n",
              "      <td>0.637381</td>\n",
              "      <td>0.910221</td>\n",
              "    </tr>\n",
              "    <tr>\n",
              "      <th>5</th>\n",
              "      <td>muslim</td>\n",
              "      <td>3940</td>\n",
              "      <td>0.772141</td>\n",
              "      <td>0.777581</td>\n",
              "      <td>0.837240</td>\n",
              "    </tr>\n",
              "    <tr>\n",
              "      <th>1</th>\n",
              "      <td>female</td>\n",
              "      <td>10136</td>\n",
              "      <td>0.802070</td>\n",
              "      <td>0.789344</td>\n",
              "      <td>0.851708</td>\n",
              "    </tr>\n",
              "    <tr>\n",
              "      <th>0</th>\n",
              "      <td>male</td>\n",
              "      <td>8025</td>\n",
              "      <td>0.809047</td>\n",
              "      <td>0.733787</td>\n",
              "      <td>0.892211</td>\n",
              "    </tr>\n",
              "    <tr>\n",
              "      <th>4</th>\n",
              "      <td>jewish</td>\n",
              "      <td>1431</td>\n",
              "      <td>0.821264</td>\n",
              "      <td>0.830580</td>\n",
              "      <td>0.826134</td>\n",
              "    </tr>\n",
              "    <tr>\n",
              "      <th>3</th>\n",
              "      <td>christian</td>\n",
              "      <td>7011</td>\n",
              "      <td>0.841584</td>\n",
              "      <td>0.890722</td>\n",
              "      <td>0.769287</td>\n",
              "    </tr>\n",
              "    <tr>\n",
              "      <th>8</th>\n",
              "      <td>psychiatric_or_mental_illness</td>\n",
              "      <td>861</td>\n",
              "      <td>0.847092</td>\n",
              "      <td>0.804135</td>\n",
              "      <td>0.873300</td>\n",
              "    </tr>\n",
              "  </tbody>\n",
              "</table>\n",
              "</div>\n",
              "    <div class=\"colab-df-buttons\">\n",
              "\n",
              "  <div class=\"colab-df-container\">\n",
              "    <button class=\"colab-df-convert\" onclick=\"convertToInteractive('df-dc9e5c38-71f7-4f5e-8616-5a511700d4ef')\"\n",
              "            title=\"Convert this dataframe to an interactive table.\"\n",
              "            style=\"display:none;\">\n",
              "\n",
              "  <svg xmlns=\"http://www.w3.org/2000/svg\" height=\"24px\" viewBox=\"0 -960 960 960\">\n",
              "    <path d=\"M120-120v-720h720v720H120Zm60-500h600v-160H180v160Zm220 220h160v-160H400v160Zm0 220h160v-160H400v160ZM180-400h160v-160H180v160Zm440 0h160v-160H620v160ZM180-180h160v-160H180v160Zm440 0h160v-160H620v160Z\"/>\n",
              "  </svg>\n",
              "    </button>\n",
              "\n",
              "  <style>\n",
              "    .colab-df-container {\n",
              "      display:flex;\n",
              "      gap: 12px;\n",
              "    }\n",
              "\n",
              "    .colab-df-convert {\n",
              "      background-color: #E8F0FE;\n",
              "      border: none;\n",
              "      border-radius: 50%;\n",
              "      cursor: pointer;\n",
              "      display: none;\n",
              "      fill: #1967D2;\n",
              "      height: 32px;\n",
              "      padding: 0 0 0 0;\n",
              "      width: 32px;\n",
              "    }\n",
              "\n",
              "    .colab-df-convert:hover {\n",
              "      background-color: #E2EBFA;\n",
              "      box-shadow: 0px 1px 2px rgba(60, 64, 67, 0.3), 0px 1px 3px 1px rgba(60, 64, 67, 0.15);\n",
              "      fill: #174EA6;\n",
              "    }\n",
              "\n",
              "    .colab-df-buttons div {\n",
              "      margin-bottom: 4px;\n",
              "    }\n",
              "\n",
              "    [theme=dark] .colab-df-convert {\n",
              "      background-color: #3B4455;\n",
              "      fill: #D2E3FC;\n",
              "    }\n",
              "\n",
              "    [theme=dark] .colab-df-convert:hover {\n",
              "      background-color: #434B5C;\n",
              "      box-shadow: 0px 1px 3px 1px rgba(0, 0, 0, 0.15);\n",
              "      filter: drop-shadow(0px 1px 2px rgba(0, 0, 0, 0.3));\n",
              "      fill: #FFFFFF;\n",
              "    }\n",
              "  </style>\n",
              "\n",
              "    <script>\n",
              "      const buttonEl =\n",
              "        document.querySelector('#df-dc9e5c38-71f7-4f5e-8616-5a511700d4ef button.colab-df-convert');\n",
              "      buttonEl.style.display =\n",
              "        google.colab.kernel.accessAllowed ? 'block' : 'none';\n",
              "\n",
              "      async function convertToInteractive(key) {\n",
              "        const element = document.querySelector('#df-dc9e5c38-71f7-4f5e-8616-5a511700d4ef');\n",
              "        const dataTable =\n",
              "          await google.colab.kernel.invokeFunction('convertToInteractive',\n",
              "                                                    [key], {});\n",
              "        if (!dataTable) return;\n",
              "\n",
              "        const docLinkHtml = 'Like what you see? Visit the ' +\n",
              "          '<a target=\"_blank\" href=https://colab.research.google.com/notebooks/data_table.ipynb>data table notebook</a>'\n",
              "          + ' to learn more about interactive tables.';\n",
              "        element.innerHTML = '';\n",
              "        dataTable['output_type'] = 'display_data';\n",
              "        await google.colab.output.renderOutput(dataTable, element);\n",
              "        const docLink = document.createElement('div');\n",
              "        docLink.innerHTML = docLinkHtml;\n",
              "        element.appendChild(docLink);\n",
              "      }\n",
              "    </script>\n",
              "  </div>\n",
              "\n",
              "\n",
              "<div id=\"df-5bc1a2c5-302e-4de6-b817-935e232a7649\">\n",
              "  <button class=\"colab-df-quickchart\" onclick=\"quickchart('df-5bc1a2c5-302e-4de6-b817-935e232a7649')\"\n",
              "            title=\"Suggest charts\"\n",
              "            style=\"display:none;\">\n",
              "\n",
              "<svg xmlns=\"http://www.w3.org/2000/svg\" height=\"24px\"viewBox=\"0 0 24 24\"\n",
              "     width=\"24px\">\n",
              "    <g>\n",
              "        <path d=\"M19 3H5c-1.1 0-2 .9-2 2v14c0 1.1.9 2 2 2h14c1.1 0 2-.9 2-2V5c0-1.1-.9-2-2-2zM9 17H7v-7h2v7zm4 0h-2V7h2v10zm4 0h-2v-4h2v4z\"/>\n",
              "    </g>\n",
              "</svg>\n",
              "  </button>\n",
              "\n",
              "<style>\n",
              "  .colab-df-quickchart {\n",
              "      --bg-color: #E8F0FE;\n",
              "      --fill-color: #1967D2;\n",
              "      --hover-bg-color: #E2EBFA;\n",
              "      --hover-fill-color: #174EA6;\n",
              "      --disabled-fill-color: #AAA;\n",
              "      --disabled-bg-color: #DDD;\n",
              "  }\n",
              "\n",
              "  [theme=dark] .colab-df-quickchart {\n",
              "      --bg-color: #3B4455;\n",
              "      --fill-color: #D2E3FC;\n",
              "      --hover-bg-color: #434B5C;\n",
              "      --hover-fill-color: #FFFFFF;\n",
              "      --disabled-bg-color: #3B4455;\n",
              "      --disabled-fill-color: #666;\n",
              "  }\n",
              "\n",
              "  .colab-df-quickchart {\n",
              "    background-color: var(--bg-color);\n",
              "    border: none;\n",
              "    border-radius: 50%;\n",
              "    cursor: pointer;\n",
              "    display: none;\n",
              "    fill: var(--fill-color);\n",
              "    height: 32px;\n",
              "    padding: 0;\n",
              "    width: 32px;\n",
              "  }\n",
              "\n",
              "  .colab-df-quickchart:hover {\n",
              "    background-color: var(--hover-bg-color);\n",
              "    box-shadow: 0 1px 2px rgba(60, 64, 67, 0.3), 0 1px 3px 1px rgba(60, 64, 67, 0.15);\n",
              "    fill: var(--button-hover-fill-color);\n",
              "  }\n",
              "\n",
              "  .colab-df-quickchart-complete:disabled,\n",
              "  .colab-df-quickchart-complete:disabled:hover {\n",
              "    background-color: var(--disabled-bg-color);\n",
              "    fill: var(--disabled-fill-color);\n",
              "    box-shadow: none;\n",
              "  }\n",
              "\n",
              "  .colab-df-spinner {\n",
              "    border: 2px solid var(--fill-color);\n",
              "    border-color: transparent;\n",
              "    border-bottom-color: var(--fill-color);\n",
              "    animation:\n",
              "      spin 1s steps(1) infinite;\n",
              "  }\n",
              "\n",
              "  @keyframes spin {\n",
              "    0% {\n",
              "      border-color: transparent;\n",
              "      border-bottom-color: var(--fill-color);\n",
              "      border-left-color: var(--fill-color);\n",
              "    }\n",
              "    20% {\n",
              "      border-color: transparent;\n",
              "      border-left-color: var(--fill-color);\n",
              "      border-top-color: var(--fill-color);\n",
              "    }\n",
              "    30% {\n",
              "      border-color: transparent;\n",
              "      border-left-color: var(--fill-color);\n",
              "      border-top-color: var(--fill-color);\n",
              "      border-right-color: var(--fill-color);\n",
              "    }\n",
              "    40% {\n",
              "      border-color: transparent;\n",
              "      border-right-color: var(--fill-color);\n",
              "      border-top-color: var(--fill-color);\n",
              "    }\n",
              "    60% {\n",
              "      border-color: transparent;\n",
              "      border-right-color: var(--fill-color);\n",
              "    }\n",
              "    80% {\n",
              "      border-color: transparent;\n",
              "      border-right-color: var(--fill-color);\n",
              "      border-bottom-color: var(--fill-color);\n",
              "    }\n",
              "    90% {\n",
              "      border-color: transparent;\n",
              "      border-bottom-color: var(--fill-color);\n",
              "    }\n",
              "  }\n",
              "</style>\n",
              "\n",
              "  <script>\n",
              "    async function quickchart(key) {\n",
              "      const quickchartButtonEl =\n",
              "        document.querySelector('#' + key + ' button');\n",
              "      quickchartButtonEl.disabled = true;  // To prevent multiple clicks.\n",
              "      quickchartButtonEl.classList.add('colab-df-spinner');\n",
              "      try {\n",
              "        const charts = await google.colab.kernel.invokeFunction(\n",
              "            'suggestCharts', [key], {});\n",
              "      } catch (error) {\n",
              "        console.error('Error during call to suggestCharts:', error);\n",
              "      }\n",
              "      quickchartButtonEl.classList.remove('colab-df-spinner');\n",
              "      quickchartButtonEl.classList.add('colab-df-quickchart-complete');\n",
              "    }\n",
              "    (() => {\n",
              "      let quickchartButtonEl =\n",
              "        document.querySelector('#df-5bc1a2c5-302e-4de6-b817-935e232a7649 button');\n",
              "      quickchartButtonEl.style.display =\n",
              "        google.colab.kernel.accessAllowed ? 'block' : 'none';\n",
              "    })();\n",
              "  </script>\n",
              "</div>\n",
              "\n",
              "  <div id=\"id_af9cf9e6-20ec-4ef1-9c91-d37aa1325919\">\n",
              "    <style>\n",
              "      .colab-df-generate {\n",
              "        background-color: #E8F0FE;\n",
              "        border: none;\n",
              "        border-radius: 50%;\n",
              "        cursor: pointer;\n",
              "        display: none;\n",
              "        fill: #1967D2;\n",
              "        height: 32px;\n",
              "        padding: 0 0 0 0;\n",
              "        width: 32px;\n",
              "      }\n",
              "\n",
              "      .colab-df-generate:hover {\n",
              "        background-color: #E2EBFA;\n",
              "        box-shadow: 0px 1px 2px rgba(60, 64, 67, 0.3), 0px 1px 3px 1px rgba(60, 64, 67, 0.15);\n",
              "        fill: #174EA6;\n",
              "      }\n",
              "\n",
              "      [theme=dark] .colab-df-generate {\n",
              "        background-color: #3B4455;\n",
              "        fill: #D2E3FC;\n",
              "      }\n",
              "\n",
              "      [theme=dark] .colab-df-generate:hover {\n",
              "        background-color: #434B5C;\n",
              "        box-shadow: 0px 1px 3px 1px rgba(0, 0, 0, 0.15);\n",
              "        filter: drop-shadow(0px 1px 2px rgba(0, 0, 0, 0.3));\n",
              "        fill: #FFFFFF;\n",
              "      }\n",
              "    </style>\n",
              "    <button class=\"colab-df-generate\" onclick=\"generateWithVariable('bias_metrics_df')\"\n",
              "            title=\"Generate code using this dataframe.\"\n",
              "            style=\"display:none;\">\n",
              "\n",
              "  <svg xmlns=\"http://www.w3.org/2000/svg\" height=\"24px\"viewBox=\"0 0 24 24\"\n",
              "       width=\"24px\">\n",
              "    <path d=\"M7,19H8.4L18.45,9,17,7.55,7,17.6ZM5,21V16.75L18.45,3.32a2,2,0,0,1,2.83,0l1.4,1.43a1.91,1.91,0,0,1,.58,1.4,1.91,1.91,0,0,1-.58,1.4L9.25,21ZM18.45,9,17,7.55Zm-12,3A5.31,5.31,0,0,0,4.9,8.1,5.31,5.31,0,0,0,1,6.5,5.31,5.31,0,0,0,4.9,4.9,5.31,5.31,0,0,0,6.5,1,5.31,5.31,0,0,0,8.1,4.9,5.31,5.31,0,0,0,12,6.5,5.46,5.46,0,0,0,6.5,12Z\"/>\n",
              "  </svg>\n",
              "    </button>\n",
              "    <script>\n",
              "      (() => {\n",
              "      const buttonEl =\n",
              "        document.querySelector('#id_af9cf9e6-20ec-4ef1-9c91-d37aa1325919 button.colab-df-generate');\n",
              "      buttonEl.style.display =\n",
              "        google.colab.kernel.accessAllowed ? 'block' : 'none';\n",
              "\n",
              "      buttonEl.onclick = () => {\n",
              "        google.colab.notebook.generateWithVariable('bias_metrics_df');\n",
              "      }\n",
              "      })();\n",
              "    </script>\n",
              "  </div>\n",
              "\n",
              "    </div>\n",
              "  </div>\n"
            ],
            "application/vnd.google.colaboratory.intrinsic+json": {
              "type": "dataframe",
              "variable_name": "bias_metrics_df",
              "summary": "{\n  \"name\": \"bias_metrics_df\",\n  \"rows\": 9,\n  \"fields\": [\n    {\n      \"column\": \"subgroup\",\n      \"properties\": {\n        \"dtype\": \"string\",\n        \"num_unique_values\": 9,\n        \"samples\": [\n          \"christian\",\n          \"homosexual_gay_or_lesbian\",\n          \"male\"\n        ],\n        \"semantic_type\": \"\",\n        \"description\": \"\"\n      }\n    },\n    {\n      \"column\": \"subgroup_size\",\n      \"properties\": {\n        \"dtype\": \"number\",\n        \"std\": 3208,\n        \"min\": 861,\n        \"max\": 10136,\n        \"num_unique_values\": 9,\n        \"samples\": [\n          7011,\n          2104,\n          8025\n        ],\n        \"semantic_type\": \"\",\n        \"description\": \"\"\n      }\n    },\n    {\n      \"column\": \"subgroup_auc\",\n      \"properties\": {\n        \"dtype\": \"number\",\n        \"std\": 0.0369445502970181,\n        \"min\": 0.7515126179759835,\n        \"max\": 0.8470919131987928,\n        \"num_unique_values\": 9,\n        \"samples\": [\n          0.8415841786204044,\n          0.7567886094698116,\n          0.8090467044297907\n        ],\n        \"semantic_type\": \"\",\n        \"description\": \"\"\n      }\n    },\n    {\n      \"column\": \"bpsn_auc\",\n      \"properties\": {\n        \"dtype\": \"number\",\n        \"std\": 0.0757380996895468,\n        \"min\": 0.6373806594916392,\n        \"max\": 0.8907222496584671,\n        \"num_unique_values\": 9,\n        \"samples\": [\n          0.8907222496584671,\n          0.84309764083749,\n          0.7337865737169835\n        ],\n        \"semantic_type\": \"\",\n        \"description\": \"\"\n      }\n    },\n    {\n      \"column\": \"bnsp_auc\",\n      \"properties\": {\n        \"dtype\": \"number\",\n        \"std\": 0.05132350271645006,\n        \"min\": 0.759485406545042,\n        \"max\": 0.9102205470902204,\n        \"num_unique_values\": 9,\n        \"samples\": [\n          0.7692874861527468,\n          0.759485406545042,\n          0.8922107185382362\n        ],\n        \"semantic_type\": \"\",\n        \"description\": \"\"\n      }\n    }\n  ]\n}"
            }
          },
          "metadata": {},
          "execution_count": 30
        }
      ],
      "source": [
        "bias_metrics_df"
      ]
    },
    {
      "cell_type": "markdown",
      "source": [
        "### **5. Classification Metrics**\n",
        "\n",
        "This section evaluates the model using standard classification performance metrics. The predicted probabilities are thresholded at **0.5** to convert them into binary labels.\n",
        "\n",
        "#### **Metrics Used**\n",
        "- **Accuracy**: Proportion of total correct predictions.\n",
        "- **Precision**: Of all predicted toxic comments, how many were actually toxic?\n",
        "- **Recall**: Of all true toxic comments, how many were correctly identified?\n",
        "- **F1 Score**: Harmonic mean of precision and recall, balancing both.\n",
        "\n",
        "#### **Results**\n",
        "The model achieves **high accuracy** and **good precision**, but **recall is very low**, meaning it misses a large portion of actual toxic comments. This suggests that the model is conservative in predicting toxicity, favoring false negatives over false positives.\n"
      ],
      "metadata": {
        "id": "3w0ciBu61Ise"
      }
    },
    {
      "cell_type": "code",
      "source": [
        "# Calculate the F1 Score, Accuracy, Precision, and Recall\n",
        "\n",
        "from sklearn.metrics import accuracy_score, precision_score, recall_score, f1_score\n",
        "\n",
        "# Assuming y_pred is already a 0/1 prediction based on a threshold (e.g., 0.5)\n",
        "y_pred_binary = (y_pred > 0.5).astype(int)\n",
        "\n",
        "accuracy = accuracy_score(y_test['target'], y_pred_binary)\n",
        "precision = precision_score(y_test['target'], y_pred_binary)\n",
        "recall = recall_score(y_test['target'], y_pred_binary)\n",
        "f1 = f1_score(y_test['target'], y_pred_binary)\n",
        "\n",
        "print(f\"Accuracy: {accuracy}\")\n",
        "print(f\"Precision: {precision}\")\n",
        "print(f\"Recall: {recall}\")\n",
        "print(f\"F1 Score: {f1}\")\n"
      ],
      "metadata": {
        "colab": {
          "base_uri": "https://localhost:8080/"
        },
        "id": "UsQZ-9bFDuV-",
        "outputId": "367b46ef-45da-4e3a-e0d1-ec04dc8b0703"
      },
      "execution_count": null,
      "outputs": [
        {
          "output_type": "stream",
          "name": "stdout",
          "text": [
            "Accuracy: 0.9440542973890158\n",
            "Precision: 0.7450980392156863\n",
            "Recall: 0.09026548672566372\n",
            "F1 Score: 0.1610236384030576\n"
          ]
        }
      ]
    }
  ],
  "metadata": {
    "colab": {
      "machine_shape": "hm",
      "provenance": []
    },
    "kernelspec": {
      "display_name": "Python 3",
      "name": "python3"
    },
    "language_info": {
      "name": "python"
    }
  },
  "nbformat": 4,
  "nbformat_minor": 0
}